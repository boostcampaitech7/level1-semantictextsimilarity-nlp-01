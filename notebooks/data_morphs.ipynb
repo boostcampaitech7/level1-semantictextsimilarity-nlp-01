{
 "cells": [
  {
   "cell_type": "code",
   "execution_count": 1,
   "metadata": {},
   "outputs": [
    {
     "name": "stdout",
     "output_type": "stream",
     "text": [
      "[('대한민국', 'NNP'), ('만세', 'NNG'), ('만', 'JX'), ('셈', 'NNG'), ('으어', 'IC'), ('나', 'NP'), ('는', 'JX'), ('나', 'NP'), ('넌', 'NP+JX'), ('너', 'NP'), ('의', 'JKG'), ('친구', 'NNG'), ('야', 'VCP+EF'), ('.', 'SF')]\n"
     ]
    }
   ],
   "source": [
    "from konlpy.tag import Mecab\n",
    "mecab = Mecab()\n",
    "\n",
    "print(mecab.pos('대한민국 만세 만셈 으어 나는 나넌 너의 친구야.'))"
   ]
  },
  {
   "cell_type": "code",
   "execution_count": 3,
   "metadata": {},
   "outputs": [
    {
     "name": "stdout",
     "output_type": "stream",
     "text": [
      "pos 품사 추출 : [('중간고사', 'NNG'), ('점수', 'NNG'), ('내', 'NP'), ('가', 'JKS'), ('반', 'NNG'), ('에서', 'JKB'), ('제일', 'MAG'), ('잘', 'MAG'), ('받', 'VV'), ('음', 'ETN')]\n",
      "morphs 형태소 추출 : ['중간고사', '점수', '내', '가', '반', '에서', '제일', '잘', '받', '음']\n",
      "nouns 명사 추출 : ['중간고사', '점수', '내', '반']\n"
     ]
    }
   ],
   "source": [
    "print(f\"pos 품사 추출 : {mecab.pos('중간고사 점수 내가 반에서 제일 잘 받음')}\")\n",
    "print(f\"morphs 형태소 추출 : {mecab.morphs('중간고사 점수 내가 반에서 제일 잘 받음')}\")\n",
    "print(f\"nouns 명사 추출 : {mecab.nouns('중간고사 점수 내가 반에서 제일 잘 받음')}\")"
   ]
  },
  {
   "cell_type": "code",
   "execution_count": null,
   "metadata": {},
   "outputs": [],
   "source": [
    "mecab.morphs()"
   ]
  },
  {
   "cell_type": "code",
   "execution_count": 14,
   "metadata": {},
   "outputs": [],
   "source": [
    "import pandas as pd\n",
    "df = pd.read_csv('/data/ephemeral/hsk/level1-semantictextsimilarity-nlp-01/data/train.csv')"
   ]
  },
  {
   "cell_type": "code",
   "execution_count": 15,
   "metadata": {},
   "outputs": [],
   "source": [
    "def morphs_to_sentence(sentence):\n",
    "    morphs = mecab.morphs(sentence)\n",
    "    return ' '.join(morphs)"
   ]
  },
  {
   "cell_type": "code",
   "execution_count": 8,
   "metadata": {},
   "outputs": [
    {
     "data": {
      "text/plain": [
       "'스릴도있고 반전도 있고 여느 한국영화 쓰레기들하고는 차원이 다르네요~'"
      ]
     },
     "execution_count": 8,
     "metadata": {},
     "output_type": "execute_result"
    }
   ],
   "source": [
    "df['sentence_1'][0]"
   ]
  },
  {
   "cell_type": "code",
   "execution_count": 9,
   "metadata": {},
   "outputs": [
    {
     "data": {
      "text/plain": [
       "'스릴 도 있 고 반전 도 있 고 여느 한국 영화 쓰레기 들 하고 는 차원 이 다르 네요 ~'"
      ]
     },
     "execution_count": 9,
     "metadata": {},
     "output_type": "execute_result"
    }
   ],
   "source": [
    "morphs_to_sentence(df['sentence_1'][0])"
   ]
  },
  {
   "cell_type": "code",
   "execution_count": 16,
   "metadata": {},
   "outputs": [
    {
     "data": {
      "text/html": [
       "<div>\n",
       "<style scoped>\n",
       "    .dataframe tbody tr th:only-of-type {\n",
       "        vertical-align: middle;\n",
       "    }\n",
       "\n",
       "    .dataframe tbody tr th {\n",
       "        vertical-align: top;\n",
       "    }\n",
       "\n",
       "    .dataframe thead th {\n",
       "        text-align: right;\n",
       "    }\n",
       "</style>\n",
       "<table border=\"1\" class=\"dataframe\">\n",
       "  <thead>\n",
       "    <tr style=\"text-align: right;\">\n",
       "      <th></th>\n",
       "      <th>id</th>\n",
       "      <th>source</th>\n",
       "      <th>sentence_1</th>\n",
       "      <th>sentence_2</th>\n",
       "      <th>label</th>\n",
       "      <th>binary-label</th>\n",
       "    </tr>\n",
       "  </thead>\n",
       "  <tbody>\n",
       "    <tr>\n",
       "      <th>0</th>\n",
       "      <td>boostcamp-sts-v1-train-000</td>\n",
       "      <td>nsmc-sampled</td>\n",
       "      <td>스릴 도 있 고 반전 도 있 고 여느 한국 영화 쓰레기 들 하고 는 차원 이 다르 ...</td>\n",
       "      <td>반전 도 있 고 , 사랑 도 있 고 재미 도 있 네요 .</td>\n",
       "      <td>2.2</td>\n",
       "      <td>0.0</td>\n",
       "    </tr>\n",
       "    <tr>\n",
       "      <th>1</th>\n",
       "      <td>boostcamp-sts-v1-train-001</td>\n",
       "      <td>slack-rtt</td>\n",
       "      <td>앗 제 가 접근 권한 이 없 다고 뜹니다 ;;</td>\n",
       "      <td>오 , 액세스 권한 이 없 다고 합니다 .</td>\n",
       "      <td>4.2</td>\n",
       "      <td>1.0</td>\n",
       "    </tr>\n",
       "    <tr>\n",
       "      <th>2</th>\n",
       "      <td>boostcamp-sts-v1-train-002</td>\n",
       "      <td>petition-sampled</td>\n",
       "      <td>주택 청약 조건 변경 해 주 세요 .</td>\n",
       "      <td>주택 청약 무주택 기준 변경 해 주 세요 .</td>\n",
       "      <td>2.4</td>\n",
       "      <td>0.0</td>\n",
       "    </tr>\n",
       "    <tr>\n",
       "      <th>3</th>\n",
       "      <td>boostcamp-sts-v1-train-003</td>\n",
       "      <td>slack-sampled</td>\n",
       "      <td>입사 후 처음 대면 으로 만나 반가웠 습니다 .</td>\n",
       "      <td>화상 으로 만 보 다가 리얼 로 만나 니 정말 반가웠 습니다 .</td>\n",
       "      <td>3.0</td>\n",
       "      <td>1.0</td>\n",
       "    </tr>\n",
       "    <tr>\n",
       "      <th>4</th>\n",
       "      <td>boostcamp-sts-v1-train-004</td>\n",
       "      <td>slack-sampled</td>\n",
       "      <td>뿌듯 뿌듯 하 네요 ! !</td>\n",
       "      <td>꼬옥 실제로 한 번 뵈 어요 뿌 뿌 뿌 ~!~!</td>\n",
       "      <td>0.0</td>\n",
       "      <td>0.0</td>\n",
       "    </tr>\n",
       "  </tbody>\n",
       "</table>\n",
       "</div>"
      ],
      "text/plain": [
       "                           id            source  \\\n",
       "0  boostcamp-sts-v1-train-000      nsmc-sampled   \n",
       "1  boostcamp-sts-v1-train-001         slack-rtt   \n",
       "2  boostcamp-sts-v1-train-002  petition-sampled   \n",
       "3  boostcamp-sts-v1-train-003     slack-sampled   \n",
       "4  boostcamp-sts-v1-train-004     slack-sampled   \n",
       "\n",
       "                                          sentence_1  \\\n",
       "0  스릴 도 있 고 반전 도 있 고 여느 한국 영화 쓰레기 들 하고 는 차원 이 다르 ...   \n",
       "1                          앗 제 가 접근 권한 이 없 다고 뜹니다 ;;   \n",
       "2                               주택 청약 조건 변경 해 주 세요 .   \n",
       "3                         입사 후 처음 대면 으로 만나 반가웠 습니다 .   \n",
       "4                                     뿌듯 뿌듯 하 네요 ! !   \n",
       "\n",
       "                            sentence_2  label  binary-label  \n",
       "0      반전 도 있 고 , 사랑 도 있 고 재미 도 있 네요 .    2.2           0.0  \n",
       "1              오 , 액세스 권한 이 없 다고 합니다 .    4.2           1.0  \n",
       "2             주택 청약 무주택 기준 변경 해 주 세요 .    2.4           0.0  \n",
       "3  화상 으로 만 보 다가 리얼 로 만나 니 정말 반가웠 습니다 .    3.0           1.0  \n",
       "4           꼬옥 실제로 한 번 뵈 어요 뿌 뿌 뿌 ~!~!    0.0           0.0  "
      ]
     },
     "execution_count": 16,
     "metadata": {},
     "output_type": "execute_result"
    }
   ],
   "source": [
    "# sentence_1과 sentence_2 칼럼에 대해 형태소 추출 및 변환\n",
    "df['sentence_1'] = df['sentence_1'].apply(morphs_to_sentence)\n",
    "df['sentence_2'] = df['sentence_2'].apply(morphs_to_sentence)\n",
    "\n",
    "\n",
    "\n",
    "# 변환된 데이터를 새로운 CSV 파일로 저장\n",
    "df.to_csv('train_morphs.csv', index=False)\n",
    "\n",
    "# 결과 확인\n",
    "df.head()"
   ]
  },
  {
   "cell_type": "code",
   "execution_count": null,
   "metadata": {},
   "outputs": [],
   "source": []
  }
 ],
 "metadata": {
  "kernelspec": {
   "display_name": "base",
   "language": "python",
   "name": "python3"
  },
  "language_info": {
   "codemirror_mode": {
    "name": "ipython",
    "version": 3
   },
   "file_extension": ".py",
   "mimetype": "text/x-python",
   "name": "python",
   "nbconvert_exporter": "python",
   "pygments_lexer": "ipython3",
   "version": "3.10.13"
  }
 },
 "nbformat": 4,
 "nbformat_minor": 2
}
