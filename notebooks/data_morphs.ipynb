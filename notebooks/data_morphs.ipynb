{
 "cells": [
  {
   "cell_type": "markdown",
   "metadata": {},
   "source": [
    "## 1. mecab-ko 설치\n",
    "\n",
    "cd /tmp\n",
    "\n",
    "sudo wget https://bitbucket.org/eunjeon/mecab-ko/downloads/mecab-0.996-ko-0.9.2.tar.gz\n",
    "\n",
    "sudo tar xvf mecab-0.996-ko-0.9.2.tar.gz\n",
    "\n",
    "cd /tmp/mecab-0.996-ko-0.9.2\n",
    "\n",
    "sudo ./configure\n",
    "\n",
    "sudo make check\n",
    "\n",
    "sudo make install\n",
    "\n",
    " \n",
    "\n",
    " \n",
    "\n",
    "## 2. mecab-dic 설치\n",
    "\n",
    "cd /tmp\n",
    "\n",
    "wget https://bitbucket.org/eunjeon/mecab-ko-dic/downloads/mecab-ko-dic-2.1.1-20180720.tar.gz\n",
    "\n",
    "tar zxvf mecab-ko-dic-2.1.1-20180720.tar.gz\n",
    "\n",
    "cd /tmp/mecab-ko-dic-2.1.1-20180720\n",
    "\n",
    "sudo ./autogen.sh\n",
    "\n",
    "sudo ./configure\n",
    "\n",
    "sudo make\n",
    "\n",
    "sudo make install\n",
    " \n",
    "\n",
    " \n",
    "\n",
    "## 3. mecab-python 설치\n",
    "\n",
    "cd /tmp\n",
    "\n",
    "git clone https://bitbucket.org/eunjeon/mecab-python-0.996.git\n",
    "\n",
    "cd mecab-python-0.996\n",
    "\n",
    "python3 setup.py build\n",
    "\n",
    "python3 setup.py install\n",
    " \n",
    "\n",
    " \n",
    "\n",
    "설치후 정상 동작 확인\n",
    "\n",
    "python3\n",
    "\n",
    "Python 3.6.9 (default, Nov  7 2019, 10:44:02)\n",
    "\n",
    "[GCC 8.3.0] on linux\n",
    "\n",
    "Type \"help\", \"copyright\", \"credits\" or \"license\" for more information.\n",
    ">>> from konlpy.tag import Mecab\n",
    ">>> mecab = Mecab()\n",
    ">>> print(mecab.pos(\"아버지가방에들어가신다\"))\n",
    "[('아버지', 'NNG'), ('가', 'JKS'), ('방', 'NNG'), ('에', 'JKB'), ('들어가', 'VV'), ('신다', 'EP+EC')]\n",
    "\n",
    "출처 : https://sosomemo.tistory.com/30"
   ]
  },
  {
   "cell_type": "code",
   "execution_count": 9,
   "metadata": {},
   "outputs": [
    {
     "name": "stdout",
     "output_type": "stream",
     "text": [
      "[('대한민국', 'NNP'), ('만세', 'NNG'), ('만', 'JX'), ('셈', 'NNG'), ('으어', 'IC'), ('나', 'NP'), ('는', 'JX'), ('나', 'NP'), ('넌', 'NP+JX'), ('너', 'NP'), ('의', 'JKG'), ('친구', 'NNG'), ('야', 'VCP+EF'), ('.', 'SF')]\n"
     ]
    }
   ],
   "source": [
    "from konlpy.tag import Mecab\n",
    "mecab = Mecab()\n",
    "\n",
    "print(mecab.pos('대한민국 만세 만셈 으어 나는 나넌 너의 친구야.'))"
   ]
  },
  {
   "cell_type": "code",
   "execution_count": 10,
   "metadata": {},
   "outputs": [
    {
     "name": "stdout",
     "output_type": "stream",
     "text": [
      "pos 품사 추출 : [('중간고사', 'NNG'), ('점수', 'NNG'), ('내', 'NP'), ('가', 'JKS'), ('반', 'NNG'), ('에서', 'JKB'), ('제일', 'MAG'), ('잘', 'MAG'), ('받', 'VV'), ('음', 'ETN')]\n",
      "morphs 형태소 추출 : ['중간고사', '점수', '내', '가', '반', '에서', '제일', '잘', '받', '음']\n",
      "nouns 명사 추출 : ['중간고사', '점수', '내', '반']\n"
     ]
    }
   ],
   "source": [
    "print(f\"pos 품사 추출 : {mecab.pos('중간고사 점수 내가 반에서 제일 잘 받음')}\")\n",
    "print(f\"morphs 형태소 추출 : {mecab.morphs('중간고사 점수 내가 반에서 제일 잘 받음')}\")\n",
    "print(f\"nouns 명사 추출 : {mecab.nouns('중간고사 점수 내가 반에서 제일 잘 받음')}\")"
   ]
  },
  {
   "cell_type": "code",
   "execution_count": 11,
   "metadata": {},
   "outputs": [
    {
     "ename": "TypeError",
     "evalue": "Mecab.morphs() missing 1 required positional argument: 'phrase'",
     "output_type": "error",
     "traceback": [
      "\u001b[0;31m---------------------------------------------------------------------------\u001b[0m",
      "\u001b[0;31mTypeError\u001b[0m                                 Traceback (most recent call last)",
      "Cell \u001b[0;32mIn[11], line 1\u001b[0m\n\u001b[0;32m----> 1\u001b[0m \u001b[43mmecab\u001b[49m\u001b[38;5;241;43m.\u001b[39;49m\u001b[43mmorphs\u001b[49m\u001b[43m(\u001b[49m\u001b[43m)\u001b[49m\n",
      "\u001b[0;31mTypeError\u001b[0m: Mecab.morphs() missing 1 required positional argument: 'phrase'"
     ]
    }
   ],
   "source": [
    "mecab.morphs()"
   ]
  },
  {
   "cell_type": "code",
   "execution_count": 12,
   "metadata": {},
   "outputs": [],
   "source": [
    "import pandas as pd"
   ]
  },
  {
   "cell_type": "code",
   "execution_count": 16,
   "metadata": {},
   "outputs": [],
   "source": [
    "\n",
    "df = pd.read_csv('/data/ephemeral/hsk/level1-semantictextsimilarity-nlp-01/data/train.csv')"
   ]
  },
  {
   "cell_type": "code",
   "execution_count": 17,
   "metadata": {},
   "outputs": [],
   "source": [
    "def morphs_to_sentence(sentence):\n",
    "    morphs = mecab.morphs(sentence)\n",
    "    return ' '.join(morphs)"
   ]
  },
  {
   "cell_type": "code",
   "execution_count": 18,
   "metadata": {},
   "outputs": [
    {
     "data": {
      "text/plain": [
       "'스릴도있고 반전도 있고 여느 한국영화 쓰레기들하고는 차원이 다르네요~'"
      ]
     },
     "execution_count": 18,
     "metadata": {},
     "output_type": "execute_result"
    }
   ],
   "source": [
    "df['sentence_1'][0]"
   ]
  },
  {
   "cell_type": "code",
   "execution_count": 19,
   "metadata": {},
   "outputs": [
    {
     "data": {
      "text/plain": [
       "'스릴 도 있 고 반전 도 있 고 여느 한국 영화 쓰레기 들 하고 는 차원 이 다르 네요 ~'"
      ]
     },
     "execution_count": 19,
     "metadata": {},
     "output_type": "execute_result"
    }
   ],
   "source": [
    "morphs_to_sentence(df['sentence_1'][0])"
   ]
  },
  {
   "cell_type": "code",
   "execution_count": 20,
   "metadata": {},
   "outputs": [
    {
     "data": {
      "text/html": [
       "<div>\n",
       "<style scoped>\n",
       "    .dataframe tbody tr th:only-of-type {\n",
       "        vertical-align: middle;\n",
       "    }\n",
       "\n",
       "    .dataframe tbody tr th {\n",
       "        vertical-align: top;\n",
       "    }\n",
       "\n",
       "    .dataframe thead th {\n",
       "        text-align: right;\n",
       "    }\n",
       "</style>\n",
       "<table border=\"1\" class=\"dataframe\">\n",
       "  <thead>\n",
       "    <tr style=\"text-align: right;\">\n",
       "      <th></th>\n",
       "      <th>id</th>\n",
       "      <th>source</th>\n",
       "      <th>sentence_1</th>\n",
       "      <th>sentence_2</th>\n",
       "      <th>label</th>\n",
       "      <th>binary-label</th>\n",
       "    </tr>\n",
       "  </thead>\n",
       "  <tbody>\n",
       "    <tr>\n",
       "      <th>0</th>\n",
       "      <td>boostcamp-sts-v1-train-000</td>\n",
       "      <td>nsmc-sampled</td>\n",
       "      <td>스릴 도 있 고 반전 도 있 고 여느 한국 영화 쓰레기 들 하고 는 차원 이 다르 ...</td>\n",
       "      <td>반전 도 있 고 , 사랑 도 있 고 재미 도 있 네요 .</td>\n",
       "      <td>2.2</td>\n",
       "      <td>0.0</td>\n",
       "    </tr>\n",
       "    <tr>\n",
       "      <th>1</th>\n",
       "      <td>boostcamp-sts-v1-train-001</td>\n",
       "      <td>slack-rtt</td>\n",
       "      <td>앗 제 가 접근 권한 이 없 다고 뜹니다 ;;</td>\n",
       "      <td>오 , 액세스 권한 이 없 다고 합니다 .</td>\n",
       "      <td>4.2</td>\n",
       "      <td>1.0</td>\n",
       "    </tr>\n",
       "    <tr>\n",
       "      <th>2</th>\n",
       "      <td>boostcamp-sts-v1-train-002</td>\n",
       "      <td>petition-sampled</td>\n",
       "      <td>주택 청약 조건 변경 해 주 세요 .</td>\n",
       "      <td>주택 청약 무주택 기준 변경 해 주 세요 .</td>\n",
       "      <td>2.4</td>\n",
       "      <td>0.0</td>\n",
       "    </tr>\n",
       "    <tr>\n",
       "      <th>3</th>\n",
       "      <td>boostcamp-sts-v1-train-003</td>\n",
       "      <td>slack-sampled</td>\n",
       "      <td>입사 후 처음 대면 으로 만나 반가웠 습니다 .</td>\n",
       "      <td>화상 으로 만 보 다가 리얼 로 만나 니 정말 반가웠 습니다 .</td>\n",
       "      <td>3.0</td>\n",
       "      <td>1.0</td>\n",
       "    </tr>\n",
       "    <tr>\n",
       "      <th>4</th>\n",
       "      <td>boostcamp-sts-v1-train-004</td>\n",
       "      <td>slack-sampled</td>\n",
       "      <td>뿌듯 뿌듯 하 네요 ! !</td>\n",
       "      <td>꼬옥 실제로 한 번 뵈 어요 뿌 뿌 뿌 ~!~!</td>\n",
       "      <td>0.0</td>\n",
       "      <td>0.0</td>\n",
       "    </tr>\n",
       "  </tbody>\n",
       "</table>\n",
       "</div>"
      ],
      "text/plain": [
       "                           id            source  \\\n",
       "0  boostcamp-sts-v1-train-000      nsmc-sampled   \n",
       "1  boostcamp-sts-v1-train-001         slack-rtt   \n",
       "2  boostcamp-sts-v1-train-002  petition-sampled   \n",
       "3  boostcamp-sts-v1-train-003     slack-sampled   \n",
       "4  boostcamp-sts-v1-train-004     slack-sampled   \n",
       "\n",
       "                                          sentence_1  \\\n",
       "0  스릴 도 있 고 반전 도 있 고 여느 한국 영화 쓰레기 들 하고 는 차원 이 다르 ...   \n",
       "1                          앗 제 가 접근 권한 이 없 다고 뜹니다 ;;   \n",
       "2                               주택 청약 조건 변경 해 주 세요 .   \n",
       "3                         입사 후 처음 대면 으로 만나 반가웠 습니다 .   \n",
       "4                                     뿌듯 뿌듯 하 네요 ! !   \n",
       "\n",
       "                            sentence_2  label  binary-label  \n",
       "0      반전 도 있 고 , 사랑 도 있 고 재미 도 있 네요 .    2.2           0.0  \n",
       "1              오 , 액세스 권한 이 없 다고 합니다 .    4.2           1.0  \n",
       "2             주택 청약 무주택 기준 변경 해 주 세요 .    2.4           0.0  \n",
       "3  화상 으로 만 보 다가 리얼 로 만나 니 정말 반가웠 습니다 .    3.0           1.0  \n",
       "4           꼬옥 실제로 한 번 뵈 어요 뿌 뿌 뿌 ~!~!    0.0           0.0  "
      ]
     },
     "execution_count": 20,
     "metadata": {},
     "output_type": "execute_result"
    }
   ],
   "source": [
    "# sentence_1과 sentence_2 칼럼에 대해 형태소 추출 및 변환\n",
    "df['sentence_1'] = df['sentence_1'].apply(morphs_to_sentence)\n",
    "df['sentence_2'] = df['sentence_2'].apply(morphs_to_sentence)\n",
    "\n",
    "\n",
    "\n",
    "# 변환된 데이터를 새로운 CSV 파일로 저장\n",
    "df.to_csv('train_morphs.csv', index=False)\n",
    "\n",
    "# 결과 확인\n",
    "df.head()"
   ]
  },
  {
   "cell_type": "code",
   "execution_count": 21,
   "metadata": {},
   "outputs": [
    {
     "data": {
      "text/html": [
       "<div>\n",
       "<style scoped>\n",
       "    .dataframe tbody tr th:only-of-type {\n",
       "        vertical-align: middle;\n",
       "    }\n",
       "\n",
       "    .dataframe tbody tr th {\n",
       "        vertical-align: top;\n",
       "    }\n",
       "\n",
       "    .dataframe thead th {\n",
       "        text-align: right;\n",
       "    }\n",
       "</style>\n",
       "<table border=\"1\" class=\"dataframe\">\n",
       "  <thead>\n",
       "    <tr style=\"text-align: right;\">\n",
       "      <th></th>\n",
       "      <th>id</th>\n",
       "      <th>source</th>\n",
       "      <th>sentence_1</th>\n",
       "      <th>sentence_2</th>\n",
       "    </tr>\n",
       "  </thead>\n",
       "  <tbody>\n",
       "    <tr>\n",
       "      <th>0</th>\n",
       "      <td>boostcamp-sts-v1-test-000</td>\n",
       "      <td>petition-sampled</td>\n",
       "      <td>가상 화폐 거래소 폐쇄 하 지 말 고</td>\n",
       "      <td>가상 화폐 거래소 폐쇄 반대 합니다</td>\n",
       "    </tr>\n",
       "    <tr>\n",
       "      <th>1</th>\n",
       "      <td>boostcamp-sts-v1-test-001</td>\n",
       "      <td>petition-sampled</td>\n",
       "      <td>뇌물 적 폐 1 호 640 만 달라 70 억 뇌물 받 은 권양숙 구속 하 고 재산 ...</td>\n",
       "      <td>뇌물 적 폐 원조 640 만 달라 70 억 뇌물 받 은 권양숙 구속 하 고 재산 을...</td>\n",
       "    </tr>\n",
       "    <tr>\n",
       "      <th>2</th>\n",
       "      <td>boostcamp-sts-v1-test-002</td>\n",
       "      <td>petition-rtt</td>\n",
       "      <td>기무사 영관 급 의 하극상 정말 이대로 방관 하 는 게 민주주의 인지요</td>\n",
       "      <td>그냥 가만히 있 는 게 진짜 민주주의 인가요 ?</td>\n",
       "    </tr>\n",
       "    <tr>\n",
       "      <th>3</th>\n",
       "      <td>boostcamp-sts-v1-test-003</td>\n",
       "      <td>nsmc-sampled</td>\n",
       "      <td>화 까지 가 한계 였 다 .</td>\n",
       "      <td>기대 가 너무 컸 다 . ..</td>\n",
       "    </tr>\n",
       "    <tr>\n",
       "      <th>4</th>\n",
       "      <td>boostcamp-sts-v1-test-004</td>\n",
       "      <td>slack-rtt</td>\n",
       "      <td>왜 혼자 있 지 . . ㅠㅠ</td>\n",
       "      <td>왜 혼자 야 . . ㅠㅠ</td>\n",
       "    </tr>\n",
       "  </tbody>\n",
       "</table>\n",
       "</div>"
      ],
      "text/plain": [
       "                          id            source  \\\n",
       "0  boostcamp-sts-v1-test-000  petition-sampled   \n",
       "1  boostcamp-sts-v1-test-001  petition-sampled   \n",
       "2  boostcamp-sts-v1-test-002      petition-rtt   \n",
       "3  boostcamp-sts-v1-test-003      nsmc-sampled   \n",
       "4  boostcamp-sts-v1-test-004         slack-rtt   \n",
       "\n",
       "                                          sentence_1  \\\n",
       "0                               가상 화폐 거래소 폐쇄 하 지 말 고   \n",
       "1  뇌물 적 폐 1 호 640 만 달라 70 억 뇌물 받 은 권양숙 구속 하 고 재산 ...   \n",
       "2            기무사 영관 급 의 하극상 정말 이대로 방관 하 는 게 민주주의 인지요   \n",
       "3                                    화 까지 가 한계 였 다 .   \n",
       "4                                    왜 혼자 있 지 . . ㅠㅠ   \n",
       "\n",
       "                                          sentence_2  \n",
       "0                                가상 화폐 거래소 폐쇄 반대 합니다  \n",
       "1  뇌물 적 폐 원조 640 만 달라 70 억 뇌물 받 은 권양숙 구속 하 고 재산 을...  \n",
       "2                         그냥 가만히 있 는 게 진짜 민주주의 인가요 ?  \n",
       "3                                   기대 가 너무 컸 다 . ..  \n",
       "4                                      왜 혼자 야 . . ㅠㅠ  "
      ]
     },
     "execution_count": 21,
     "metadata": {},
     "output_type": "execute_result"
    }
   ],
   "source": [
    "test_df = pd.read_csv('/data/ephemeral/hsk/level1-semantictextsimilarity-nlp-01/data/test.csv')\n",
    "\n",
    "# sentence_1과 sentence_2 칼럼에 대해 형태소 추출 및 변환\n",
    "test_df['sentence_1'] = test_df['sentence_1'].apply(morphs_to_sentence)\n",
    "test_df['sentence_2'] = test_df['sentence_2'].apply(morphs_to_sentence)\n",
    "\n",
    "\n",
    "\n",
    "# 변환된 데이터를 새로운 CSV 파일로 저장\n",
    "test_df.to_csv('test_morphs.csv', index=False)\n",
    "\n",
    "# 결과 확인\n",
    "test_df.head()"
   ]
  },
  {
   "cell_type": "code",
   "execution_count": 22,
   "metadata": {},
   "outputs": [
    {
     "data": {
      "text/html": [
       "<div>\n",
       "<style scoped>\n",
       "    .dataframe tbody tr th:only-of-type {\n",
       "        vertical-align: middle;\n",
       "    }\n",
       "\n",
       "    .dataframe tbody tr th {\n",
       "        vertical-align: top;\n",
       "    }\n",
       "\n",
       "    .dataframe thead th {\n",
       "        text-align: right;\n",
       "    }\n",
       "</style>\n",
       "<table border=\"1\" class=\"dataframe\">\n",
       "  <thead>\n",
       "    <tr style=\"text-align: right;\">\n",
       "      <th></th>\n",
       "      <th>id</th>\n",
       "      <th>source</th>\n",
       "      <th>sentence_1</th>\n",
       "      <th>sentence_2</th>\n",
       "      <th>label</th>\n",
       "      <th>binary-label</th>\n",
       "    </tr>\n",
       "  </thead>\n",
       "  <tbody>\n",
       "    <tr>\n",
       "      <th>0</th>\n",
       "      <td>boostcamp-sts-v1-dev-000</td>\n",
       "      <td>nsmc-sampled</td>\n",
       "      <td>액션 은 개뿔 총 몇 번 쏘 고 끝 입니다</td>\n",
       "      <td>액션 은 흉내 만 내 고 그 마저 도 후반부 에 는 슬로우 모션 처리</td>\n",
       "      <td>2.0</td>\n",
       "      <td>0.0</td>\n",
       "    </tr>\n",
       "    <tr>\n",
       "      <th>1</th>\n",
       "      <td>boostcamp-sts-v1-dev-001</td>\n",
       "      <td>slack-rtt</td>\n",
       "      <td>감격 스러워 입 막 으 심 ?</td>\n",
       "      <td>너무 감동 해서 입 다물 어 ?</td>\n",
       "      <td>3.4</td>\n",
       "      <td>1.0</td>\n",
       "    </tr>\n",
       "    <tr>\n",
       "      <th>2</th>\n",
       "      <td>boostcamp-sts-v1-dev-002</td>\n",
       "      <td>nsmc-rtt</td>\n",
       "      <td>이번 년 도 에 본 영화 중 가장 최악 의 영화 . .....</td>\n",
       "      <td>올해 본 영화 중 최악 . ..</td>\n",
       "      <td>4.0</td>\n",
       "      <td>1.0</td>\n",
       "    </tr>\n",
       "    <tr>\n",
       "      <th>3</th>\n",
       "      <td>boostcamp-sts-v1-dev-003</td>\n",
       "      <td>slack-rtt</td>\n",
       "      <td>특히 평소 뮤직 채널 에 많 은 영감 을 불어넣 어 주 시 는 !</td>\n",
       "      <td>특히 , 당신 은 항상 많 은 음악 채널 에 영감 을 줍니다 !</td>\n",
       "      <td>3.4</td>\n",
       "      <td>1.0</td>\n",
       "    </tr>\n",
       "    <tr>\n",
       "      <th>4</th>\n",
       "      <td>boostcamp-sts-v1-dev-004</td>\n",
       "      <td>slack-sampled</td>\n",
       "      <td>다음 밥 스테이지 가 기대 됩니다 ~ ㅎ</td>\n",
       "      <td>다음 후기 도 기대 됩니다 ~~</td>\n",
       "      <td>1.4</td>\n",
       "      <td>0.0</td>\n",
       "    </tr>\n",
       "  </tbody>\n",
       "</table>\n",
       "</div>"
      ],
      "text/plain": [
       "                         id         source  \\\n",
       "0  boostcamp-sts-v1-dev-000   nsmc-sampled   \n",
       "1  boostcamp-sts-v1-dev-001      slack-rtt   \n",
       "2  boostcamp-sts-v1-dev-002       nsmc-rtt   \n",
       "3  boostcamp-sts-v1-dev-003      slack-rtt   \n",
       "4  boostcamp-sts-v1-dev-004  slack-sampled   \n",
       "\n",
       "                             sentence_1  \\\n",
       "0               액션 은 개뿔 총 몇 번 쏘 고 끝 입니다   \n",
       "1                      감격 스러워 입 막 으 심 ?   \n",
       "2    이번 년 도 에 본 영화 중 가장 최악 의 영화 . .....   \n",
       "3  특히 평소 뮤직 채널 에 많 은 영감 을 불어넣 어 주 시 는 !   \n",
       "4                다음 밥 스테이지 가 기대 됩니다 ~ ㅎ   \n",
       "\n",
       "                               sentence_2  label  binary-label  \n",
       "0  액션 은 흉내 만 내 고 그 마저 도 후반부 에 는 슬로우 모션 처리    2.0           0.0  \n",
       "1                       너무 감동 해서 입 다물 어 ?    3.4           1.0  \n",
       "2                       올해 본 영화 중 최악 . ..    4.0           1.0  \n",
       "3     특히 , 당신 은 항상 많 은 음악 채널 에 영감 을 줍니다 !    3.4           1.0  \n",
       "4                       다음 후기 도 기대 됩니다 ~~    1.4           0.0  "
      ]
     },
     "execution_count": 22,
     "metadata": {},
     "output_type": "execute_result"
    }
   ],
   "source": [
    "dev_df = pd.read_csv('/data/ephemeral/hsk/level1-semantictextsimilarity-nlp-01/data/dev.csv')\n",
    "\n",
    "# sentence_1과 sentence_2 칼럼에 대해 형태소 추출 및 변환\n",
    "dev_df['sentence_1'] = dev_df['sentence_1'].apply(morphs_to_sentence)\n",
    "dev_df['sentence_2'] = dev_df['sentence_2'].apply(morphs_to_sentence)\n",
    "\n",
    "\n",
    "\n",
    "# 변환된 데이터를 새로운 CSV 파일로 저장\n",
    "dev_df.to_csv('dev_morphs.csv', index=False)\n",
    "\n",
    "# 결과 확인\n",
    "dev_df.head()"
   ]
  },
  {
   "cell_type": "code",
   "execution_count": null,
   "metadata": {},
   "outputs": [],
   "source": []
  }
 ],
 "metadata": {
  "kernelspec": {
   "display_name": "base",
   "language": "python",
   "name": "python3"
  },
  "language_info": {
   "codemirror_mode": {
    "name": "ipython",
    "version": 3
   },
   "file_extension": ".py",
   "mimetype": "text/x-python",
   "name": "python",
   "nbconvert_exporter": "python",
   "pygments_lexer": "ipython3",
   "version": "3.10.13"
  }
 },
 "nbformat": 4,
 "nbformat_minor": 2
}
