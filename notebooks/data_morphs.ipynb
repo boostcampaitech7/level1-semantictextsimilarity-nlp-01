{
 "cells": [
  {
   "cell_type": "markdown",
   "metadata": {},
   "source": [
    "# mecab의 설치"
   ]
  },
  {
   "cell_type": "markdown",
   "metadata": {},
   "source": [
    "1. mecab-ko 설치\n",
    "\n",
    "cd /tmp\n",
    "\n",
    "sudo wget https://bitbucket.org/eunjeon/mecab-ko/downloads/mecab-0.996-ko-0.9.2.tar.gz\n",
    "\n",
    "sudo tar xvf mecab-0.996-ko-0.9.2.tar.gz\n",
    "\n",
    "cd /tmp/mecab-0.996-ko-0.9.2\n",
    "\n",
    "sudo ./configure\n",
    "\n",
    "sudo make check\n",
    "\n",
    "sudo make install\n",
    "\n",
    " \n",
    "\n",
    " \n",
    "\n",
    "2. mecab-dic 설치\n",
    "\n",
    "cd /tmp\n",
    "\n",
    "wget https://bitbucket.org/eunjeon/mecab-ko-dic/downloads/mecab-ko-dic-2.1.1-20180720.tar.gz\n",
    "\n",
    "tar zxvf mecab-ko-dic-2.1.1-20180720.tar.gz\n",
    "\n",
    "cd /tmp/mecab-ko-dic-2.1.1-20180720\n",
    "\n",
    "sudo ./configure\n",
    "\n",
    "sudo make\n",
    "\n",
    "sudo apt-get install libmecab2 mecab mecab-ipadic mecab-ipadic-utf8\n",
    "\n",
    "sudo make install\n",
    " \n",
    "참고 : https://sosomemo.tistory.com/30"
   ]
  },
  {
   "cell_type": "code",
   "execution_count": 9,
   "metadata": {},
   "outputs": [
    {
     "name": "stdout",
     "output_type": "stream",
     "text": [
      "[('대한민국', 'NNP'), ('만세', 'NNG'), ('만', 'JX'), ('셈', 'NNG'), ('으어', 'IC'), ('나', 'NP'), ('는', 'JX'), ('나', 'NP'), ('넌', 'NP+JX'), ('너', 'NP'), ('의', 'JKG'), ('친구', 'NNG'), ('야', 'VCP+EF'), ('.', 'SF')]\n"
     ]
    }
   ],
   "source": [
    "from konlpy.tag import Mecab\n",
    "mecab = Mecab()\n",
    "\n",
    "print(mecab.pos('대한민국 만세 만셈 으어 나는 나넌 너의 친구야.'))"
   ]
  },
  {
   "cell_type": "code",
   "execution_count": 10,
   "metadata": {},
   "outputs": [
    {
     "name": "stdout",
     "output_type": "stream",
     "text": [
      "pos 품사 추출 : [('중간고사', 'NNG'), ('점수', 'NNG'), ('내', 'NP'), ('가', 'JKS'), ('반', 'NNG'), ('에서', 'JKB'), ('제일', 'MAG'), ('잘', 'MAG'), ('받', 'VV'), ('음', 'ETN')]\n",
      "morphs 형태소 추출 : ['중간고사', '점수', '내', '가', '반', '에서', '제일', '잘', '받', '음']\n",
      "nouns 명사 추출 : ['중간고사', '점수', '내', '반']\n"
     ]
    }
   ],
   "source": [
    "print(f\"pos 품사 추출 : {mecab.pos('중간고사 점수 내가 반에서 제일 잘 받음')}\")\n",
    "print(f\"morphs 형태소 추출 : {mecab.morphs('중간고사 점수 내가 반에서 제일 잘 받음')}\")\n",
    "print(f\"nouns 명사 추출 : {mecab.nouns('중간고사 점수 내가 반에서 제일 잘 받음')}\")"
   ]
  },
  {
   "cell_type": "code",
   "execution_count": 12,
   "metadata": {},
   "outputs": [],
   "source": [
    "import pandas as pd"
   ]
  },
  {
   "cell_type": "code",
   "execution_count": 16,
   "metadata": {},
   "outputs": [],
   "source": [
    "\n",
    "df = pd.read_csv('/data/ephemeral/hsk/level1-semantictextsimilarity-nlp-01/data/train.csv')"
   ]
  },
  {
   "cell_type": "code",
   "execution_count": 17,
   "metadata": {},
   "outputs": [],
   "source": [
    "def morphs_to_sentence(sentence):\n",
    "    morphs = mecab.morphs(sentence)\n",
    "    return ' '.join(morphs)"
   ]
  },
  {
   "cell_type": "code",
   "execution_count": 18,
   "metadata": {},
   "outputs": [
    {
     "data": {
      "text/plain": [
       "'스릴도있고 반전도 있고 여느 한국영화 쓰레기들하고는 차원이 다르네요~'"
      ]
     },
     "execution_count": 18,
     "metadata": {},
     "output_type": "execute_result"
    }
   ],
   "source": [
    "df['sentence_1'][0]"
   ]
  },
  {
   "cell_type": "code",
   "execution_count": 19,
   "metadata": {},
   "outputs": [
    {
     "data": {
      "text/plain": [
       "'스릴 도 있 고 반전 도 있 고 여느 한국 영화 쓰레기 들 하고 는 차원 이 다르 네요 ~'"
      ]
     },
     "execution_count": 19,
     "metadata": {},
     "output_type": "execute_result"
    }
   ],
   "source": [
    "morphs_to_sentence(df['sentence_1'][0])"
   ]
  },
  {
   "cell_type": "markdown",
   "metadata": {},
   "source": [
    "### 데이터 형태소 단위로 쪼개기"
   ]
  },
  {
   "cell_type": "code",
   "execution_count": 20,
   "metadata": {},
   "outputs": [
    {
     "data": {
      "text/html": [
       "<div>\n",
       "<style scoped>\n",
       "    .dataframe tbody tr th:only-of-type {\n",
       "        vertical-align: middle;\n",
       "    }\n",
       "\n",
       "    .dataframe tbody tr th {\n",
       "        vertical-align: top;\n",
       "    }\n",
       "\n",
       "    .dataframe thead th {\n",
       "        text-align: right;\n",
       "    }\n",
       "</style>\n",
       "<table border=\"1\" class=\"dataframe\">\n",
       "  <thead>\n",
       "    <tr style=\"text-align: right;\">\n",
       "      <th></th>\n",
       "      <th>id</th>\n",
       "      <th>source</th>\n",
       "      <th>sentence_1</th>\n",
       "      <th>sentence_2</th>\n",
       "      <th>label</th>\n",
       "      <th>binary-label</th>\n",
       "    </tr>\n",
       "  </thead>\n",
       "  <tbody>\n",
       "    <tr>\n",
       "      <th>0</th>\n",
       "      <td>boostcamp-sts-v1-train-000</td>\n",
       "      <td>nsmc-sampled</td>\n",
       "      <td>스릴 도 있 고 반전 도 있 고 여느 한국 영화 쓰레기 들 하고 는 차원 이 다르 ...</td>\n",
       "      <td>반전 도 있 고 , 사랑 도 있 고 재미 도 있 네요 .</td>\n",
       "      <td>2.2</td>\n",
       "      <td>0.0</td>\n",
       "    </tr>\n",
       "    <tr>\n",
       "      <th>1</th>\n",
       "      <td>boostcamp-sts-v1-train-001</td>\n",
       "      <td>slack-rtt</td>\n",
       "      <td>앗 제 가 접근 권한 이 없 다고 뜹니다 ;;</td>\n",
       "      <td>오 , 액세스 권한 이 없 다고 합니다 .</td>\n",
       "      <td>4.2</td>\n",
       "      <td>1.0</td>\n",
       "    </tr>\n",
       "    <tr>\n",
       "      <th>2</th>\n",
       "      <td>boostcamp-sts-v1-train-002</td>\n",
       "      <td>petition-sampled</td>\n",
       "      <td>주택 청약 조건 변경 해 주 세요 .</td>\n",
       "      <td>주택 청약 무주택 기준 변경 해 주 세요 .</td>\n",
       "      <td>2.4</td>\n",
       "      <td>0.0</td>\n",
       "    </tr>\n",
       "    <tr>\n",
       "      <th>3</th>\n",
       "      <td>boostcamp-sts-v1-train-003</td>\n",
       "      <td>slack-sampled</td>\n",
       "      <td>입사 후 처음 대면 으로 만나 반가웠 습니다 .</td>\n",
       "      <td>화상 으로 만 보 다가 리얼 로 만나 니 정말 반가웠 습니다 .</td>\n",
       "      <td>3.0</td>\n",
       "      <td>1.0</td>\n",
       "    </tr>\n",
       "    <tr>\n",
       "      <th>4</th>\n",
       "      <td>boostcamp-sts-v1-train-004</td>\n",
       "      <td>slack-sampled</td>\n",
       "      <td>뿌듯 뿌듯 하 네요 ! !</td>\n",
       "      <td>꼬옥 실제로 한 번 뵈 어요 뿌 뿌 뿌 ~!~!</td>\n",
       "      <td>0.0</td>\n",
       "      <td>0.0</td>\n",
       "    </tr>\n",
       "  </tbody>\n",
       "</table>\n",
       "</div>"
      ],
      "text/plain": [
       "                           id            source  \\\n",
       "0  boostcamp-sts-v1-train-000      nsmc-sampled   \n",
       "1  boostcamp-sts-v1-train-001         slack-rtt   \n",
       "2  boostcamp-sts-v1-train-002  petition-sampled   \n",
       "3  boostcamp-sts-v1-train-003     slack-sampled   \n",
       "4  boostcamp-sts-v1-train-004     slack-sampled   \n",
       "\n",
       "                                          sentence_1  \\\n",
       "0  스릴 도 있 고 반전 도 있 고 여느 한국 영화 쓰레기 들 하고 는 차원 이 다르 ...   \n",
       "1                          앗 제 가 접근 권한 이 없 다고 뜹니다 ;;   \n",
       "2                               주택 청약 조건 변경 해 주 세요 .   \n",
       "3                         입사 후 처음 대면 으로 만나 반가웠 습니다 .   \n",
       "4                                     뿌듯 뿌듯 하 네요 ! !   \n",
       "\n",
       "                            sentence_2  label  binary-label  \n",
       "0      반전 도 있 고 , 사랑 도 있 고 재미 도 있 네요 .    2.2           0.0  \n",
       "1              오 , 액세스 권한 이 없 다고 합니다 .    4.2           1.0  \n",
       "2             주택 청약 무주택 기준 변경 해 주 세요 .    2.4           0.0  \n",
       "3  화상 으로 만 보 다가 리얼 로 만나 니 정말 반가웠 습니다 .    3.0           1.0  \n",
       "4           꼬옥 실제로 한 번 뵈 어요 뿌 뿌 뿌 ~!~!    0.0           0.0  "
      ]
     },
     "execution_count": 20,
     "metadata": {},
     "output_type": "execute_result"
    }
   ],
   "source": [
    "# sentence_1과 sentence_2 칼럼에 대해 형태소 추출 및 변환\n",
    "df['sentence_1'] = df['sentence_1'].apply(morphs_to_sentence)\n",
    "df['sentence_2'] = df['sentence_2'].apply(morphs_to_sentence)\n",
    "\n",
    "\n",
    "\n",
    "# 변환된 데이터를 새로운 CSV 파일로 저장\n",
    "df.to_csv('train_morphs.csv', index=False)\n",
    "\n",
    "# 결과 확인\n",
    "df.head()"
   ]
  },
  {
   "cell_type": "markdown",
   "metadata": {},
   "source": [
    "# 데이터를 형태소 단위로 쪼개고, label 0 데이터를 5로 일정부분 옮겨서 증강하기\n"
   ]
  },
  {
   "cell_type": "code",
   "execution_count": null,
   "metadata": {},
   "outputs": [],
   "source": [
    "import pandas as pd\n",
    "from konlpy.tag import Mecab\n",
    "from transformers import pipeline\n",
    "\n",
    "# 데이터 로드\n",
    "data = pd.read_csv('/data/ephemeral/hsk/level1-semantictextsimilarity-nlp-01/data/train.csv')\n",
    "\n",
    "\n",
    "# 형태소 분석기 초기화\n",
    "mecab = Mecab()"
   ]
  },
  {
   "cell_type": "code",
   "execution_count": null,
   "metadata": {},
   "outputs": [],
   "source": [
    "def morphs_to_sentence(sentence):\n",
    "    morphs = mecab.morphs(sentence)\n",
    "    return ' '.join(morphs)"
   ]
  },
  {
   "cell_type": "code",
   "execution_count": null,
   "metadata": {},
   "outputs": [],
   "source": [
    "# sentence_1과 sentence_2 칼럼에 대해 형태소 추출 및 변환\n",
    "data['sentence_1'] = data['sentence_1'].apply(morphs_to_sentence)\n",
    "data['sentence_2'] = data['sentence_2'].apply(morphs_to_sentence)"
   ]
  },
  {
   "cell_type": "code",
   "execution_count": null,
   "metadata": {},
   "outputs": [],
   "source": [
    "# Label 값이 0.0인 데이터 필터링\n",
    "data_0 = data[data['label'] == 0.0]\n",
    "data_0"
   ]
  },
  {
   "cell_type": "markdown",
   "metadata": {},
   "source": [
    "### label이 0인 데이터 중에서 문장구조가 비교적 좋은 문장 필터링"
   ]
  },
  {
   "cell_type": "code",
   "execution_count": null,
   "metadata": {},
   "outputs": [],
   "source": [
    "from konlpy.tag import Mecab\n",
    "\n",
    "# 형태소 분석기 초기화\n",
    "mecab = Mecab()\n",
    "\n",
    "# 문장 구조가 완벽한지 확인하는 함수\n",
    "def is_complete_sentence(sentence):\n",
    "    pos_tags = mecab.pos(sentence)\n",
    "    has_subject = False\n",
    "    has_predicate = False\n",
    "    has_object = False\n",
    "    has_adverb = False\n",
    "    has_particle = False\n",
    "    \n",
    "    for word, tag in pos_tags:\n",
    "        if tag in ['NNG', 'NNP', 'NP']:  # 주어\n",
    "            has_subject = True\n",
    "        elif tag in ['VV', 'VA', 'VX', 'VCP', 'VCN']:  # 서술어\n",
    "            has_predicate = True\n",
    "        elif tag == 'MAG':  # 부사\n",
    "            has_adverb = True\n",
    "        elif tag in ['JKS', 'JKC', 'JKG', 'JKO', 'JKB', 'JKV', 'JKQ', 'JX']:  # 조사\n",
    "            has_particle = True\n",
    "        elif tag == 'NNG':  # 목적어\n",
    "            has_object = True\n",
    "    \n",
    "    return has_subject and has_predicate and has_adverb and has_particle\n",
    "\n",
    "# 문장 구조가 완벽한 문장만 추출\n",
    "data_0_complete_sentence_1 = data_0[data_0['sentence_1'].apply(is_complete_sentence)]\n",
    "data_0_complete_sentence_2 = data_0[data_0['sentence_2'].apply(is_complete_sentence)]\n"
   ]
  },
  {
   "cell_type": "markdown",
   "metadata": {},
   "source": [
    "### fill-mask 파이프라인 만들기"
   ]
  },
  {
   "cell_type": "code",
   "execution_count": null,
   "metadata": {},
   "outputs": [],
   "source": [
    "import pandas as pd\n",
    "from konlpy.tag import Mecab\n",
    "from transformers import pipeline\n",
    "\n",
    "# fill-mask 파이프라인 설정\n",
    "fill_mask = pipeline(\n",
    "    \"fill-mask\",\n",
    "    model=\"monologg/koelectra-base-v3-generator\",\n",
    "    tokenizer=\"monologg/koelectra-base-v3-generator\"\n",
    ")\n",
    "\n",
    "def mask_and_fill(sentence):\n",
    "    pos_tags = mecab.pos(sentence)\n",
    "    for word, tag in pos_tags:\n",
    "        if tag == 'MAG':  # 부사 태그\n",
    "            masked_sentence = sentence.replace(word, '{}', 1)\n",
    "            fill_mask_result = fill_mask(masked_sentence.format(fill_mask.tokenizer.mask_token))\n",
    "            new_sentence = fill_mask_result[0]['sequence']\n",
    "            if new_sentence != sentence and abs(len(new_sentence) - len(sentence)) >= 3:\n",
    "                return new_sentence\n",
    "    return None\n",
    "\n"
   ]
  },
  {
   "cell_type": "markdown",
   "metadata": {},
   "source": [
    "### 필터링된 문장에서 fill-mask 파이프라인 거침"
   ]
  },
  {
   "cell_type": "code",
   "execution_count": null,
   "metadata": {},
   "outputs": [],
   "source": [
    "augmented_data = []\n",
    "for index, row in data_0_complete_sentence_1.iterrows():\n",
    "    new_sentence = mask_and_fill(row['sentence_1'])\n",
    "    if new_sentence:\n",
    "        augmented_row = row.copy()\n",
    "        augmented_row['sentence_2'] = new_sentence\n",
    "        augmented_row['label'] = 4.8\n",
    "        augmented_data.append(augmented_row)\n",
    "\n",
    "augmented_1_df = pd.DataFrame(augmented_data)\n",
    "\n",
    "augmented_data = []\n",
    "for index, row in data_0_complete_sentence_2.iterrows():\n",
    "    new_sentence = mask_and_fill(row['sentence_2'])\n",
    "    if new_sentence:\n",
    "        augmented_row = row.copy()\n",
    "        augmented_row['sentence_1'] = new_sentence\n",
    "        augmented_row['label'] = 4.8\n",
    "        augmented_data.append(augmented_row)\n",
    "\n",
    "augmented_2_df = pd.DataFrame(augmented_data)\n"
   ]
  },
  {
   "cell_type": "markdown",
   "metadata": {},
   "source": [
    "### 중복 행 제거"
   ]
  },
  {
   "cell_type": "code",
   "execution_count": null,
   "metadata": {},
   "outputs": [],
   "source": [
    "# 중복된 행 제거\n",
    "def remove_duplicates(data, augmented_1_df, augmented_2_df):\n",
    "    combined_sentences = set(augmented_1_df['sentence_1']).union(set(augmented_1_df['sentence_2']))\n",
    "    combined_sentences = combined_sentences.union(set(augmented_2_df['sentence_1'])).union(set(augmented_2_df['sentence_2']))\n",
    "    \n",
    "    data = data[~data['sentence_1'].isin(combined_sentences)]\n",
    "    data = data[~data['sentence_2'].isin(combined_sentences)]\n",
    "    \n",
    "    return data\n",
    "\n",
    "# 함수 호출\n",
    "cleaned_data = remove_duplicates(data, augmented_1_df, augmented_2_df)\n"
   ]
  },
  {
   "cell_type": "markdown",
   "metadata": {},
   "source": [
    "### 데이터 프레임 합치기"
   ]
  },
  {
   "cell_type": "code",
   "execution_count": null,
   "metadata": {},
   "outputs": [],
   "source": [
    "# 데이터프레임 합치기\n",
    "combined_df = pd.concat([cleaned_data, augmented_1_df, augmented_2_df], ignore_index=True)"
   ]
  },
  {
   "cell_type": "markdown",
   "metadata": {},
   "source": [
    "### label 0인 데이터 중에서 형태소 태깅이 0이 넘는 sentence_1과 sentence_2는 각각을 copy하여 라벨 5짜리로 옮겨줄것"
   ]
  },
  {
   "cell_type": "code",
   "execution_count": null,
   "metadata": {},
   "outputs": [],
   "source": [
    "# Mecab 형태소 분석기 초기화\n",
    "mecab = Mecab()\n",
    "\n",
    "# 형태소 분석 및 태깅 종류 개수 계산 함수\n",
    "def count_pos_tags(sentence):\n",
    "    pos_tags = mecab.pos(sentence)\n",
    "    unique_tags = set(tag for _, tag in pos_tags)\n",
    "    return len(unique_tags)\n",
    "\n",
    "# 조건에 맞는 행 처리\n",
    "new_rows = []\n",
    "for index, row in combined_df.iterrows():\n",
    "    if row['label'] == 0.0:\n",
    "        sentence_1_tags = count_pos_tags(row['sentence_1'])\n",
    "        sentence_2_tags = count_pos_tags(row['sentence_2'])\n",
    "        \n",
    "        if sentence_1_tags > 10 or sentence_2_tags > 10:\n",
    "            row['label'] = 5.0\n",
    "            row['sentence_2'] = row['sentence_1']\n",
    "            \n",
    "            if sentence_2_tags > 10:\n",
    "                new_row = row.copy()\n",
    "                new_row['sentence_2'] = row['sentence_1']\n",
    "                new_rows.append(new_row)\n",
    "\n",
    "# 새로운 행 추가\n",
    "combined_df = pd.concat([combined_df, pd.DataFrame(new_rows)], ignore_index=True)\n"
   ]
  },
  {
   "cell_type": "code",
   "execution_count": null,
   "metadata": {},
   "outputs": [],
   "source": [
    "# 중복된 id를 찾기\n",
    "duplicate_ids = combined_df[combined_df.duplicated('id', keep=False)]['id'].unique()\n",
    "\n",
    "# label이 0.0인 중복된 id 행 제거\n",
    "cleaned_df = combined_df[~((combined_df['id'].isin(duplicate_ids)) & (combined_df['label'] == 0.0))]\n",
    "\n",
    "# 중복된 id 중 label이 0.0이 아닌 행은 유지\n",
    "cleaned_df = pd.concat([cleaned_df, combined_df[(combined_df['id'].isin(duplicate_ids)) & (combined_df['label'] != 0.0)]], ignore_index=True).drop_duplicates()"
   ]
  },
  {
   "cell_type": "code",
   "execution_count": null,
   "metadata": {},
   "outputs": [],
   "source": [
    "shuffled_data = cleaned_df.sample(frac=1).reset_index(drop=True)"
   ]
  },
  {
   "cell_type": "code",
   "execution_count": null,
   "metadata": {},
   "outputs": [],
   "source": [
    "# 변환된 데이터를 새로운 CSV 파일로 저장\n",
    "shuffled_data.to_csv('train.csv', index=False)"
   ]
  },
  {
   "cell_type": "code",
   "execution_count": null,
   "metadata": {},
   "outputs": [],
   "source": [
    "import matplotlib.pyplot as plt\n",
    "\n",
    "# 히스토그램 그리기\n",
    "plt.figure(figsize=(10, 6))\n",
    "plt.hist(shuffled_data['label'], bins=51, edgecolor='black')\n",
    "plt.xlabel('Label')\n",
    "plt.ylabel('Frequency')\n",
    "plt.title('Histogram of Label Values')\n",
    "plt.xticks([0.0, 0.5, 1.0, 1.5, 2.0, 2.5, 3.0, 3.5, 4.0, 4.5, 5.0])\n",
    "plt.grid(True)\n",
    "plt.show()"
   ]
  },
  {
   "attachments": {
    "image.png": {
     "image/png": "[encoded data removed]"
    }
   },
   "cell_type": "markdown",
   "metadata": {},
   "source": [
    "![image.png](attachment:image.png)"
   ]
  },
  {
   "cell_type": "markdown",
   "metadata": {},
   "source": []
  }
 ],
 "metadata": {
  "kernelspec": {
   "display_name": "ML",
   "language": "python",
   "name": "python3"
  },
  "language_info": {
   "codemirror_mode": {
    "name": "ipython",
    "version": 3
   },
   "file_extension": ".py",
   "mimetype": "text/x-python",
   "name": "python",
   "nbconvert_exporter": "python",
   "pygments_lexer": "ipython3",
   "version": "3.12.4"
  }
 },
 "nbformat": 4,
 "nbformat_minor": 2
}
